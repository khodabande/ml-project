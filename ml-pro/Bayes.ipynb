{
 "cells": [
  {
   "cell_type": "code",
   "execution_count": 1,
   "metadata": {},
   "outputs": [],
   "source": [
    "import numpy as np\n",
    "import matplotlib.pyplot as plt\n",
    "import pandas as pd\n",
    "import scipy\n",
    "from sklearn.model_selection import train_test_split\n",
    "from sklearn.naive_bayes import MultinomialNB # GaussianNB doesn't work with sparse matrices\n",
    "from sklearn.metrics import classification_report, confusion_matrix, roc_auc_score"
   ]
  },
  {
   "cell_type": "code",
   "execution_count": 2,
   "metadata": {},
   "outputs": [],
   "source": [
    "X = scipy.sparse.load_npz('data/train_tfidf.npz')\n",
    "Y = np.loadtxt('data/train_labels.csv')"
   ]
  },
  {
   "cell_type": "code",
   "execution_count": 3,
   "metadata": {},
   "outputs": [],
   "source": [
    "X_train, X_test, Y_train, Y_test = train_test_split(X, Y, test_size=0.20)"
   ]
  },
  {
   "cell_type": "code",
   "execution_count": 4,
   "metadata": {},
   "outputs": [
    {
     "name": "stdout",
     "output_type": "stream",
     "text": [
      "Training...\n",
      "Predicting...\n",
      "Training...\n",
      "Predicting...\n",
      "Training...\n",
      "Predicting...\n",
      "Training...\n",
      "Predicting...\n",
      "Training...\n",
      "Predicting...\n",
      "Training...\n",
      "Predicting...\n"
     ]
    }
   ],
   "source": [
    "Y_predict = Y_test.copy()\n",
    "for i in range(Y.shape[1]):\n",
    "    classifier = MultinomialNB()\n",
    "    print('Training...')\n",
    "    classifier.fit(X_train, Y_train[:,i])\n",
    "    print('Predicting...')\n",
    "    Y_predict[:,i] = classifier.predict(X_test)"
   ]
  },
  {
   "cell_type": "code",
   "execution_count": 5,
   "metadata": {},
   "outputs": [],
   "source": [
    "import scipy\n",
    "scipy.sparse.save_npz('output/MNB_X_train.npz', X_train)\n",
    "np.savetxt('output/MNB_Y_train.out', Y_train)\n",
    "scipy.sparse.save_npz('output/MNB_X_test.npz', X_test)\n",
    "np.savetxt('output/MNB_Y_test.out', Y_test)\n",
    "np.savetxt('output/MNB_Y_predict.out', Y_predict)"
   ]
  },
  {
   "cell_type": "code",
   "execution_count": 6,
   "metadata": {},
   "outputs": [
    {
     "name": "stdout",
     "output_type": "stream",
     "text": [
      "For feature 1\n",
      "AUC = 0.531070\n",
      "[[28842     1]\n",
      " [ 2881   191]]\n",
      "              precision    recall  f1-score   support\n",
      "\n",
      "         0.0       0.91      1.00      0.95     28843\n",
      "         1.0       0.99      0.06      0.12      3072\n",
      "\n",
      "   micro avg       0.91      0.91      0.91     31915\n",
      "   macro avg       0.95      0.53      0.53     31915\n",
      "weighted avg       0.92      0.91      0.87     31915\n",
      "\n",
      "For feature 2\n",
      "AUC = 0.500000\n",
      "[[31618     0]\n",
      " [  297     0]]\n",
      "              precision    recall  f1-score   support\n",
      "\n",
      "         0.0       0.99      1.00      1.00     31618\n",
      "         1.0       0.00      0.00      0.00       297\n",
      "\n",
      "   micro avg       0.99      0.99      0.99     31915\n",
      "   macro avg       0.50      0.50      0.50     31915\n",
      "weighted avg       0.98      0.99      0.99     31915\n",
      "\n",
      "For feature 3\n",
      "AUC = 0.519438\n",
      "[[30243     0]\n",
      " [ 1607    65]]\n",
      "              precision    recall  f1-score   support\n",
      "\n",
      "         0.0       0.95      1.00      0.97     30243\n",
      "         1.0       1.00      0.04      0.07      1672\n",
      "\n",
      "   micro avg       0.95      0.95      0.95     31915\n",
      "   macro avg       0.97      0.52      0.52     31915\n",
      "weighted avg       0.95      0.95      0.93     31915\n",
      "\n",
      "For feature 4\n",
      "AUC = 0.500000\n",
      "[[31815     0]\n",
      " [  100     0]]\n"
     ]
    },
    {
     "name": "stderr",
     "output_type": "stream",
     "text": [
      "/usr/local/lib/python3.5/dist-packages/sklearn/metrics/classification.py:1143: UndefinedMetricWarning: Precision and F-score are ill-defined and being set to 0.0 in labels with no predicted samples.\n",
      "  'precision', 'predicted', average, warn_for)\n",
      "/usr/local/lib/python3.5/dist-packages/sklearn/metrics/classification.py:1143: UndefinedMetricWarning: Precision and F-score are ill-defined and being set to 0.0 in labels with no predicted samples.\n",
      "  'precision', 'predicted', average, warn_for)\n"
     ]
    },
    {
     "name": "stdout",
     "output_type": "stream",
     "text": [
      "              precision    recall  f1-score   support\n",
      "\n",
      "         0.0       1.00      1.00      1.00     31815\n",
      "         1.0       0.00      0.00      0.00       100\n",
      "\n",
      "   micro avg       1.00      1.00      1.00     31915\n",
      "   macro avg       0.50      0.50      0.50     31915\n",
      "weighted avg       0.99      1.00      1.00     31915\n",
      "\n",
      "For feature 5\n",
      "AUC = 0.503431\n",
      "[[30312     0]\n",
      " [ 1592    11]]\n",
      "              precision    recall  f1-score   support\n",
      "\n",
      "         0.0       0.95      1.00      0.97     30312\n",
      "         1.0       1.00      0.01      0.01      1603\n",
      "\n",
      "   micro avg       0.95      0.95      0.95     31915\n",
      "   macro avg       0.98      0.50      0.49     31915\n",
      "weighted avg       0.95      0.95      0.93     31915\n",
      "\n",
      "For feature 6\n",
      "AUC = 0.500000\n",
      "[[31647     0]\n",
      " [  268     0]]\n",
      "              precision    recall  f1-score   support\n",
      "\n",
      "         0.0       0.99      1.00      1.00     31647\n",
      "         1.0       0.00      0.00      0.00       268\n",
      "\n",
      "   micro avg       0.99      0.99      0.99     31915\n",
      "   macro avg       0.50      0.50      0.50     31915\n",
      "weighted avg       0.98      0.99      0.99     31915\n",
      "\n"
     ]
    },
    {
     "name": "stderr",
     "output_type": "stream",
     "text": [
      "/usr/local/lib/python3.5/dist-packages/sklearn/metrics/classification.py:1143: UndefinedMetricWarning: Precision and F-score are ill-defined and being set to 0.0 in labels with no predicted samples.\n",
      "  'precision', 'predicted', average, warn_for)\n"
     ]
    }
   ],
   "source": [
    "for i in range(Y.shape[1]):\n",
    "    print(\"For feature %d\" % (i+1))\n",
    "    print(\"AUC = %f\" % roc_auc_score(Y_test[:,i], Y_predict[:,i]))\n",
    "    print(confusion_matrix(Y_test[:,i], Y_predict[:,i]))\n",
    "    print(classification_report(Y_test[:,i], Y_predict[:,i]))"
   ]
  }
 ],
 "metadata": {
  "kernelspec": {
   "display_name": "Python 3",
   "language": "python",
   "name": "python3"
  },
  "language_info": {
   "codemirror_mode": {
    "name": "ipython",
    "version": 3
   },
   "file_extension": ".py",
   "mimetype": "text/x-python",
   "name": "python",
   "nbconvert_exporter": "python",
   "pygments_lexer": "ipython3",
   "version": "3.5.3"
  }
 },
 "nbformat": 4,
 "nbformat_minor": 2
}
