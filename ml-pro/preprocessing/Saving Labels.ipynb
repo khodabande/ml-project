{
 "cells": [
  {
   "cell_type": "code",
   "execution_count": 4,
   "metadata": {},
   "outputs": [],
   "source": [
    "import numpy as np\n",
    "import pandas as pd"
   ]
  },
  {
   "cell_type": "code",
   "execution_count": 5,
   "metadata": {},
   "outputs": [],
   "source": [
    "# train labels\n",
    "data = pd.read_csv('data/train.csv')\n",
    "data = np.array(data.values)\n",
    "Y = data[:,2:]\n",
    "np.savetxt('data/train_labels.csv', Y)"
   ]
  },
  {
   "cell_type": "code",
   "execution_count": 15,
   "metadata": {},
   "outputs": [],
   "source": [
    "# test labels\n",
    "data = pd.read_csv('data/test_labels_old.csv')\n",
    "data = np.array(data.values)\n",
    "Y = -data[:,1:]\n",
    "np.savetxt('data/test_labels.csv', Y)"
   ]
  }
 ],
 "metadata": {
  "kernelspec": {
   "display_name": "Python 3",
   "language": "python",
   "name": "python3"
  },
  "language_info": {
   "codemirror_mode": {
    "name": "ipython",
    "version": 3
   },
   "file_extension": ".py",
   "mimetype": "text/x-python",
   "name": "python",
   "nbconvert_exporter": "python",
   "pygments_lexer": "ipython3",
   "version": "3.5.3"
  }
 },
 "nbformat": 4,
 "nbformat_minor": 2
}
