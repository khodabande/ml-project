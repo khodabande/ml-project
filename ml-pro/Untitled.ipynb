{
 "cells": [
  {
   "cell_type": "code",
   "execution_count": null,
   "metadata": {},
   "outputs": [],
   "source": [
    "    # embededing layer\n",
    "    model.add(embedding_matrix.shape[0], embedding_matrix.shape[1], weights=[embedding_matrix], trainable=True) \n",
    "    # convolutional layer\n",
    "    model.add(Conv1D(filters=128, kernel_size=K[i], padding='same', activation='relu')) \n",
    "    model.add(MaxPooling1D(3)) \n",
    "    model.add(GlobalMaxPooling1D())\n",
    "    model.add(BatchNormalization())\n",
    "    # learning layer\n",
    "    model.add(Dense(dpt[i], activation='relu')) \n",
    "    model.add(Dropout(dropout_rate))\n",
    "    # output layer\n",
    "    model.add(Dense(6, activation='sigmoid')) \n"
   ]
  }
 ],
 "metadata": {
  "kernelspec": {
   "display_name": "Python 3",
   "language": "python",
   "name": "python3"
  },
  "language_info": {
   "codemirror_mode": {
    "name": "ipython",
    "version": 3
   },
   "file_extension": ".py",
   "mimetype": "text/x-python",
   "name": "python",
   "nbconvert_exporter": "python",
   "pygments_lexer": "ipython3",
   "version": "3.5.3"
  }
 },
 "nbformat": 4,
 "nbformat_minor": 2
}
